{
 "cells": [
  {
   "cell_type": "code",
   "execution_count": 182,
   "id": "6117ff5b",
   "metadata": {},
   "outputs": [],
   "source": [
    "from bs4 import BeautifulSoup\n",
    "from datetime import datetime\n",
    "import feedparser\n",
    "import json\n",
    "import numpy as np\n",
    "import os\n",
    "import pandas as pd\n",
    "import requests\n",
    "import tabula"
   ]
  },
  {
   "cell_type": "code",
   "execution_count": 183,
   "id": "63355c25",
   "metadata": {},
   "outputs": [],
   "source": [
    "url = 'https://www.regione.sicilia.it'\n",
    "feed = feedparser.parse(url+'/feed')"
   ]
  },
  {
   "cell_type": "code",
   "execution_count": 184,
   "id": "f812d369",
   "metadata": {},
   "outputs": [
    {
     "name": "stdout",
     "output_type": "stream",
     "text": [
      "http://www.regione.sicilia.it/la-regione-informa/covid-bollettino-settimanale-aumento-nuovi-casi-calo-prime-dosi\n"
     ]
    }
   ],
   "source": [
    "f = [field for field in feed['entries'] if 'bollettino settimanale' in field['title']]\n",
    "link = f[0]['links'][0]['href']\n",
    "print(link)"
   ]
  },
  {
   "cell_type": "code",
   "execution_count": 185,
   "id": "444faa9f",
   "metadata": {},
   "outputs": [],
   "source": [
    "html = requests.get(link)\n",
    "soup = BeautifulSoup(html.text, 'html.parser')\n",
    "links = soup.find_all('a')"
   ]
  },
  {
   "cell_type": "code",
   "execution_count": 186,
   "id": "67c37da3",
   "metadata": {},
   "outputs": [
    {
     "name": "stdout",
     "output_type": "stream",
     "text": [
      "https://www.regione.sicilia.it/sites/default/files/2021-10/Report%20Completo%2027%20Ottobre%202021.pdf\n"
     ]
    }
   ],
   "source": [
    "for link in links:\n",
    "    if ('.pdf' in link.get('href')):\n",
    "        pdf = url+link.get('href')\n",
    "\n",
    "print(pdf)"
   ]
  },
  {
   "cell_type": "code",
   "execution_count": 187,
   "id": "30665974",
   "metadata": {},
   "outputs": [
    {
     "name": "stdout",
     "output_type": "stream",
     "text": [
      "PDF Scaricato.\n"
     ]
    }
   ],
   "source": [
    "r = requests.get(pdf, stream=True)\n",
    "with open('./downloads/'+datetime.now().strftime(\"%Y%m%d\")+'.pdf', 'wb') as f:\n",
    "    f.write(r.content)\n",
    "    print(\"PDF Scaricato.\")"
   ]
  },
  {
   "cell_type": "code",
   "execution_count": 201,
   "id": "8b6b2085",
   "metadata": {},
   "outputs": [],
   "source": [
    "files = []\n",
    "path = './downloads/'\n",
    "\n",
    "for file in os.listdir(path):\n",
    "    if (file.endswith('.pdf')):\n",
    "        files.append(file)\n",
    "\n",
    "files.sort()\n",
    "file = files[0]"
   ]
  },
  {
   "cell_type": "markdown",
   "id": "313be53f",
   "metadata": {},
   "source": [
    "## Qui comincia Tabula, ma forse meglio usare OCR"
   ]
  },
  {
   "cell_type": "code",
   "execution_count": 271,
   "id": "a6beac26",
   "metadata": {},
   "outputs": [
    {
     "name": "stdout",
     "output_type": "stream",
     "text": [
      "Leggo PDF...\n"
     ]
    },
    {
     "name": "stderr",
     "output_type": "stream",
     "text": [
      "Got stderr: Oct 28, 2021 11:54:33 PM org.apache.pdfbox.pdmodel.font.PDTrueTypeFont <init>\n",
      "WARNING: Using fallback font 'Helvetica' for 'TimesNewRomanPSMT'\n",
      "\n",
      "Got stderr: Oct 28, 2021 11:54:34 PM org.apache.pdfbox.pdmodel.font.PDTrueTypeFont <init>\n",
      "WARNING: Using fallback font 'Helvetica' for 'TimesNewRomanPSMT'\n",
      "\n",
      "Got stderr: Oct 28, 2021 11:54:34 PM org.apache.pdfbox.pdmodel.font.PDTrueTypeFont <init>\n",
      "WARNING: Using fallback font 'Helvetica' for 'TimesNewRomanPSMT'\n",
      "\n",
      "Got stderr: Oct 28, 2021 11:54:35 PM org.apache.pdfbox.pdmodel.font.PDTrueTypeFont <init>\n",
      "WARNING: Using fallback font 'Helvetica' for 'TimesNewRomanPSMT'\n",
      "\n",
      "Got stderr: Oct 28, 2021 11:54:36 PM org.apache.pdfbox.pdmodel.font.PDTrueTypeFont <init>\n",
      "WARNING: Using fallback font 'Helvetica' for 'TimesNewRomanPSMT'\n",
      "\n",
      "Got stderr: Oct 28, 2021 11:54:36 PM org.apache.pdfbox.pdmodel.font.PDTrueTypeFont <init>\n",
      "WARNING: Using fallback font 'Helvetica' for 'TimesNewRomanPSMT'\n",
      "\n",
      "Got stderr: Oct 28, 2021 11:54:37 PM org.apache.pdfbox.pdmodel.font.PDTrueTypeFont <init>\n",
      "WARNING: Using fallback font 'Helvetica' for 'TimesNewRomanPSMT'\n",
      "\n",
      "Got stderr: Oct 28, 2021 11:54:37 PM org.apache.pdfbox.pdmodel.font.PDTrueTypeFont <init>\n",
      "WARNING: Using fallback font 'Helvetica' for 'TimesNewRomanPSMT'\n",
      "\n",
      "Got stderr: Oct 28, 2021 11:54:38 PM org.apache.pdfbox.pdmodel.font.PDTrueTypeFont <init>\n",
      "WARNING: Using fallback font 'Helvetica' for 'TimesNewRomanPSMT'\n",
      "\n",
      "Got stderr: Oct 28, 2021 11:54:39 PM org.apache.pdfbox.pdmodel.font.PDTrueTypeFont <init>\n",
      "WARNING: Using fallback font 'Helvetica' for 'TimesNewRomanPSMT'\n",
      "\n"
     ]
    }
   ],
   "source": [
    "print('Leggo PDF...')\n",
    "df = tabula.read_pdf_with_template(path+file, 'template_vaccini.json', pandas_options={'header': None}, multiple_tables=False)"
   ]
  },
  {
   "cell_type": "code",
   "execution_count": 265,
   "id": "a78c4e3d",
   "metadata": {},
   "outputs": [],
   "source": [
    "\n",
    "join = pd.concat(df, axis=1)\n",
    "\n",
    "\n",
    "#print('Converto in CSV.')\n",
    "#join.to_csv('tabula-'+file[:-4]+'.csv', index=None, header=False)"
   ]
  },
  {
   "cell_type": "code",
   "execution_count": 276,
   "id": "e6d35597",
   "metadata": {},
   "outputs": [
    {
     "data": {
      "text/html": [
       "<div>\n",
       "<style scoped>\n",
       "    .dataframe tbody tr th:only-of-type {\n",
       "        vertical-align: middle;\n",
       "    }\n",
       "\n",
       "    .dataframe tbody tr th {\n",
       "        vertical-align: top;\n",
       "    }\n",
       "\n",
       "    .dataframe thead th {\n",
       "        text-align: right;\n",
       "    }\n",
       "</style>\n",
       "<table border=\"1\" class=\"dataframe\">\n",
       "  <thead>\n",
       "    <tr style=\"text-align: right;\">\n",
       "      <th></th>\n",
       "      <th>Alcamo</th>\n",
       "      <th>86,63%</th>\n",
       "      <th>83,34%</th>\n",
       "    </tr>\n",
       "  </thead>\n",
       "  <tbody>\n",
       "    <tr>\n",
       "      <th>0</th>\n",
       "      <td>Buseto Palizzolo</td>\n",
       "      <td>85,67%</td>\n",
       "      <td>80,54%</td>\n",
       "    </tr>\n",
       "    <tr>\n",
       "      <th>1</th>\n",
       "      <td>Calatafimi-Segesta</td>\n",
       "      <td>87,87%</td>\n",
       "      <td>85,37%</td>\n",
       "    </tr>\n",
       "    <tr>\n",
       "      <th>2</th>\n",
       "      <td>Campobello di Mazara</td>\n",
       "      <td>74,95%</td>\n",
       "      <td>70,28%</td>\n",
       "    </tr>\n",
       "    <tr>\n",
       "      <th>3</th>\n",
       "      <td>Castellammare del Golfo</td>\n",
       "      <td>80,22%</td>\n",
       "      <td>76,17%</td>\n",
       "    </tr>\n",
       "    <tr>\n",
       "      <th>4</th>\n",
       "      <td>Castelvetrano</td>\n",
       "      <td>78,06%</td>\n",
       "      <td>73,70%</td>\n",
       "    </tr>\n",
       "    <tr>\n",
       "      <th>5</th>\n",
       "      <td>Custonaci</td>\n",
       "      <td>76,09%</td>\n",
       "      <td>70,00%</td>\n",
       "    </tr>\n",
       "    <tr>\n",
       "      <th>6</th>\n",
       "      <td>Erice</td>\n",
       "      <td>81,73%</td>\n",
       "      <td>77,06%</td>\n",
       "    </tr>\n",
       "    <tr>\n",
       "      <th>7</th>\n",
       "      <td>Favignana</td>\n",
       "      <td>82,95%</td>\n",
       "      <td>78,59%</td>\n",
       "    </tr>\n",
       "    <tr>\n",
       "      <th>8</th>\n",
       "      <td>Gibellina</td>\n",
       "      <td>86,16%</td>\n",
       "      <td>83,21%</td>\n",
       "    </tr>\n",
       "    <tr>\n",
       "      <th>9</th>\n",
       "      <td>Marsala</td>\n",
       "      <td>84,39%</td>\n",
       "      <td>80,07%</td>\n",
       "    </tr>\n",
       "    <tr>\n",
       "      <th>10</th>\n",
       "      <td>Mazara del Vallo</td>\n",
       "      <td>84,56%</td>\n",
       "      <td>80,37%</td>\n",
       "    </tr>\n",
       "    <tr>\n",
       "      <th>11</th>\n",
       "      <td>Paceco</td>\n",
       "      <td>79,99%</td>\n",
       "      <td>75,66%</td>\n",
       "    </tr>\n",
       "    <tr>\n",
       "      <th>12</th>\n",
       "      <td>Pantelleria</td>\n",
       "      <td>75,68%</td>\n",
       "      <td>67,31%</td>\n",
       "    </tr>\n",
       "    <tr>\n",
       "      <th>13</th>\n",
       "      <td>Partanna</td>\n",
       "      <td>87,03%</td>\n",
       "      <td>84,12%</td>\n",
       "    </tr>\n",
       "    <tr>\n",
       "      <th>14</th>\n",
       "      <td>Petrosino</td>\n",
       "      <td>72,02%</td>\n",
       "      <td>68,16%</td>\n",
       "    </tr>\n",
       "    <tr>\n",
       "      <th>15</th>\n",
       "      <td>Poggioreale</td>\n",
       "      <td>76,22%</td>\n",
       "      <td>72,65%</td>\n",
       "    </tr>\n",
       "    <tr>\n",
       "      <th>16</th>\n",
       "      <td>Salaparuta</td>\n",
       "      <td>82,28%</td>\n",
       "      <td>78,34%</td>\n",
       "    </tr>\n",
       "    <tr>\n",
       "      <th>17</th>\n",
       "      <td>Salemi</td>\n",
       "      <td>83,66%</td>\n",
       "      <td>79,73%</td>\n",
       "    </tr>\n",
       "    <tr>\n",
       "      <th>18</th>\n",
       "      <td>San Vito Lo Capo</td>\n",
       "      <td>74,59%</td>\n",
       "      <td>68,89%</td>\n",
       "    </tr>\n",
       "    <tr>\n",
       "      <th>19</th>\n",
       "      <td>Santa Ninfa</td>\n",
       "      <td>87,36%</td>\n",
       "      <td>84,00%</td>\n",
       "    </tr>\n",
       "    <tr>\n",
       "      <th>20</th>\n",
       "      <td>Trapani</td>\n",
       "      <td>79,17%</td>\n",
       "      <td>74,29%</td>\n",
       "    </tr>\n",
       "    <tr>\n",
       "      <th>21</th>\n",
       "      <td>Valderice</td>\n",
       "      <td>80,79%</td>\n",
       "      <td>76,27%</td>\n",
       "    </tr>\n",
       "    <tr>\n",
       "      <th>22</th>\n",
       "      <td>Vita</td>\n",
       "      <td>86,18%</td>\n",
       "      <td>83,49%</td>\n",
       "    </tr>\n",
       "  </tbody>\n",
       "</table>\n",
       "</div>"
      ],
      "text/plain": [
       "                     Alcamo  86,63%  83,34%\n",
       "0          Buseto Palizzolo  85,67%  80,54%\n",
       "1        Calatafimi-Segesta  87,87%  85,37%\n",
       "2      Campobello di Mazara  74,95%  70,28%\n",
       "3   Castellammare del Golfo  80,22%  76,17%\n",
       "4             Castelvetrano  78,06%  73,70%\n",
       "5                 Custonaci  76,09%  70,00%\n",
       "6                     Erice  81,73%  77,06%\n",
       "7                 Favignana  82,95%  78,59%\n",
       "8                 Gibellina  86,16%  83,21%\n",
       "9                   Marsala  84,39%  80,07%\n",
       "10         Mazara del Vallo  84,56%  80,37%\n",
       "11                   Paceco  79,99%  75,66%\n",
       "12              Pantelleria  75,68%  67,31%\n",
       "13                 Partanna  87,03%  84,12%\n",
       "14                Petrosino  72,02%  68,16%\n",
       "15              Poggioreale  76,22%  72,65%\n",
       "16               Salaparuta  82,28%  78,34%\n",
       "17                   Salemi  83,66%  79,73%\n",
       "18         San Vito Lo Capo  74,59%  68,89%\n",
       "19              Santa Ninfa  87,36%  84,00%\n",
       "20                  Trapani  79,17%  74,29%\n",
       "21                Valderice  80,79%  76,27%\n",
       "22                     Vita  86,18%  83,49%"
      ]
     },
     "execution_count": 276,
     "metadata": {},
     "output_type": "execute_result"
    }
   ],
   "source": [
    "df[-1]\n",
    "\n"
   ]
  },
  {
   "cell_type": "code",
   "execution_count": null,
   "id": "33d58235",
   "metadata": {},
   "outputs": [],
   "source": []
  }
 ],
 "metadata": {
  "kernelspec": {
   "display_name": "Python 3 (ipykernel)",
   "language": "python",
   "name": "python3"
  },
  "language_info": {
   "codemirror_mode": {
    "name": "ipython",
    "version": 3
   },
   "file_extension": ".py",
   "mimetype": "text/x-python",
   "name": "python",
   "nbconvert_exporter": "python",
   "pygments_lexer": "ipython3",
   "version": "3.8.10"
  }
 },
 "nbformat": 4,
 "nbformat_minor": 5
}
