{
 "cells": [
  {
   "cell_type": "code",
   "execution_count": null,
   "id": "6117ff5b",
   "metadata": {},
   "outputs": [],
   "source": [
    "from bs4 import BeautifulSoup\n",
    "from datetime import datetime\n",
    "import feedparser\n",
    "import json\n",
    "import numpy as np\n",
    "import os\n",
    "import pandas as pd\n",
    "import requests\n",
    "import tabula"
   ]
  },
  {
   "cell_type": "code",
   "execution_count": null,
   "id": "63355c25",
   "metadata": {},
   "outputs": [],
   "source": [
    "url = 'https://www.regione.sicilia.it'\n",
    "feed = feedparser.parse(url+'/feed')"
   ]
  },
  {
   "cell_type": "code",
   "execution_count": null,
   "id": "f812d369",
   "metadata": {},
   "outputs": [],
   "source": [
    "f = [field for field in feed['entries'] if 'bollettino settimanale' in field['title']]\n",
    "link = f[0]['links'][0]['href']\n",
    "print(link)"
   ]
  },
  {
   "cell_type": "code",
   "execution_count": null,
   "id": "444faa9f",
   "metadata": {},
   "outputs": [],
   "source": [
    "html = requests.get(link)\n",
    "soup = BeautifulSoup(html.text, 'html.parser')\n",
    "links = soup.find_all('a')"
   ]
  },
  {
   "cell_type": "code",
   "execution_count": null,
   "id": "67c37da3",
   "metadata": {},
   "outputs": [],
   "source": [
    "for link in links:\n",
    "    if ('.pdf' in link.get('href')):\n",
    "        pdf = url+link.get('href')\n",
    "\n",
    "print(pdf)"
   ]
  },
  {
   "cell_type": "code",
   "execution_count": null,
   "id": "30665974",
   "metadata": {},
   "outputs": [],
   "source": [
    "r = requests.get(pdf, stream=True)\n",
    "with open('./downloads/'+datetime.now().strftime(\"%Y%m%d\")+'.pdf', 'wb') as f:\n",
    "    f.write(r.content)\n",
    "    print(\"PDF Scaricato.\")"
   ]
  },
  {
   "cell_type": "code",
   "execution_count": null,
   "id": "8b6b2085",
   "metadata": {},
   "outputs": [],
   "source": [
    "files = []\n",
    "path = './downloads/'\n",
    "\n",
    "for file in os.listdir(path):\n",
    "    if (file.endswith('.pdf')):\n",
    "        files.append(file)\n",
    "\n",
    "files.sort()\n",
    "file = files[0]"
   ]
  },
  {
   "cell_type": "markdown",
   "id": "313be53f",
   "metadata": {},
   "source": [
    "## Qui comincia Tabula, ma forse meglio usare OCR"
   ]
  },
  {
   "cell_type": "code",
   "execution_count": null,
   "id": "a6beac26",
   "metadata": {},
   "outputs": [],
   "source": [
    "print('Leggo PDF...')\n",
    "df = tabula.read_pdf_with_template(path+file, 'template_vaccini.json', pandas_options={'header': None}, multiple_tables=False)"
   ]
  },
  {
   "cell_type": "code",
   "execution_count": null,
   "id": "a78c4e3d",
   "metadata": {},
   "outputs": [],
   "source": [
    "\n",
    "join = pd.concat(df, axis=1)\n",
    "\n",
    "\n",
    "#print('Converto in CSV.')\n",
    "#join.to_csv('tabula-'+file[:-4]+'.csv', index=None, header=False)"
   ]
  },
  {
   "cell_type": "code",
   "execution_count": null,
   "id": "e6d35597",
   "metadata": {},
   "outputs": [],
   "source": [
    "df[-1]\n",
    "\n"
   ]
  },
  {
   "cell_type": "code",
   "execution_count": null,
   "id": "33d58235",
   "metadata": {},
   "outputs": [],
   "source": []
  }
 ],
 "metadata": {
  "kernelspec": {
   "display_name": "Python 3 (ipykernel)",
   "language": "python",
   "name": "python3"
  },
  "language_info": {
   "codemirror_mode": {
    "name": "ipython",
    "version": 3
   },
   "file_extension": ".py",
   "mimetype": "text/x-python",
   "name": "python",
   "nbconvert_exporter": "python",
   "pygments_lexer": "ipython3",
   "version": "3.8.10"
  }
 },
 "nbformat": 4,
 "nbformat_minor": 5
}
