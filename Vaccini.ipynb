{
 "cells": [
  {
   "cell_type": "code",
   "execution_count": 1,
   "id": "6117ff5b",
   "metadata": {},
   "outputs": [],
   "source": [
    "from bs4 import BeautifulSoup\n",
    "from datetime import datetime\n",
    "import feedparser\n",
    "import locale\n",
    "import os\n",
    "import pandas as pd\n",
    "import requests\n",
    "import tabula\n",
    "from getRanges import getRanges\n",
    "from PyPDF2 import PdfFileReader"
   ]
  },
  {
   "cell_type": "markdown",
   "id": "4ce06df7",
   "metadata": {},
   "source": [
    "### Carica il feed .XML"
   ]
  },
  {
   "cell_type": "code",
   "execution_count": 2,
   "id": "63355c25",
   "metadata": {},
   "outputs": [],
   "source": [
    "url = 'https://www.regione.sicilia.it'\n",
    "feed = feedparser.parse(url+'/feed')"
   ]
  },
  {
   "cell_type": "markdown",
   "id": "51026666",
   "metadata": {},
   "source": [
    "### Per ogni entry che contiene la stringa nel titolo, selezionane il link"
   ]
  },
  {
   "cell_type": "code",
   "execution_count": 3,
   "id": "f812d369",
   "metadata": {},
   "outputs": [
    {
     "name": "stdout",
     "output_type": "stream",
     "text": [
      "http://www.regione.sicilia.it/la-regione-informa/covid-bollettino-settimanale-incidenza-stabile-picco-terze-dosi\n"
     ]
    }
   ],
   "source": [
    "f = [field for field in feed['entries'] if 'bollettino settimanale' in field['title']]\n",
    "link = f[0]['links'][0]['href']\n",
    "print(link)"
   ]
  },
  {
   "cell_type": "markdown",
   "id": "9af7e0a2",
   "metadata": {},
   "source": [
    "### Chiama il link e parsa l'html con Soup, trova tutti gli hyperlinks della pagina"
   ]
  },
  {
   "cell_type": "code",
   "execution_count": 4,
   "id": "444faa9f",
   "metadata": {},
   "outputs": [],
   "source": [
    "html = requests.get(link)\n",
    "soup = BeautifulSoup(html.text, 'html.parser')\n",
    "links = soup.find_all('a')"
   ]
  },
  {
   "cell_type": "markdown",
   "id": "d89724bb",
   "metadata": {},
   "source": [
    "### Tra tutti i link, prendi quello con il .pdf"
   ]
  },
  {
   "cell_type": "code",
   "execution_count": 5,
   "id": "67c37da3",
   "metadata": {},
   "outputs": [
    {
     "name": "stdout",
     "output_type": "stream",
     "text": [
      "https://www.regione.sicilia.it/sites/default/files/2021-11/Bollettino%20n%C3%82%C2%B0%205%20del%204%20novembre.pdf\n"
     ]
    }
   ],
   "source": [
    "for link in links:\n",
    "    if ('.pdf' in link.get('href')):\n",
    "        pdf = url+link.get('href')\n",
    "\n",
    "print(pdf)"
   ]
  },
  {
   "cell_type": "markdown",
   "id": "2b29138d",
   "metadata": {},
   "source": [
    "### Estrae la data dal nome del PDF e la converte in YYYYMMDD"
   ]
  },
  {
   "cell_type": "code",
   "execution_count": 6,
   "id": "c342dc0a",
   "metadata": {},
   "outputs": [
    {
     "name": "stdout",
     "output_type": "stream",
     "text": [
      "2021-11-04 18:21:36.033562\n"
     ]
    }
   ],
   "source": [
    "# locale.setlocale(locale.LC_TIME, 'it_IT.UTF-8')\n",
    "# date = pdf.rsplit('/',1)[-1].replace('%20',' ').lstrip('Report Completo').rstrip('.pdf')\n",
    "# date = datetime.strptime(date, '%d %B %Y')\n",
    "# date = date.strftime('%Y%m%d')\n",
    "# print(date)\n",
    "\n",
    "date = datetime.now()\n",
    "print(date)"
   ]
  },
  {
   "cell_type": "markdown",
   "id": "e75e2890",
   "metadata": {},
   "source": [
    "### Scarica il PDF e aggiungi timestamp"
   ]
  },
  {
   "cell_type": "code",
   "execution_count": 7,
   "id": "30665974",
   "metadata": {},
   "outputs": [
    {
     "name": "stdout",
     "output_type": "stream",
     "text": [
      "PDF Scaricato.\n"
     ]
    }
   ],
   "source": [
    "r = requests.get(pdf, stream=True)\n",
    "with open('./downloads/'+date.strftime('%Y%m%d')+'.pdf', 'wb') as f:\n",
    "    f.write(r.content)\n",
    "    print(\"PDF Scaricato.\")"
   ]
  },
  {
   "cell_type": "markdown",
   "id": "f31ef50a",
   "metadata": {},
   "source": [
    "### Seleziona il piu recente PDF scaricato"
   ]
  },
  {
   "cell_type": "code",
   "execution_count": 8,
   "id": "8b6b2085",
   "metadata": {},
   "outputs": [
    {
     "name": "stdout",
     "output_type": "stream",
     "text": [
      "20211104.pdf\n"
     ]
    }
   ],
   "source": [
    "files = []\n",
    "path = './downloads/'\n",
    "\n",
    "for file in os.listdir(path):\n",
    "    if (file.endswith('.pdf')):\n",
    "        files.append(file)\n",
    "\n",
    "files.sort()\n",
    "file = files[-1]\n",
    "print(file)"
   ]
  },
  {
   "cell_type": "markdown",
   "id": "b1932b4f",
   "metadata": {},
   "source": [
    "### Quali pagine leggiamo?"
   ]
  },
  {
   "cell_type": "code",
   "execution_count": 9,
   "id": "51366a08",
   "metadata": {},
   "outputs": [],
   "source": [
    "ranges = getRanges(path+file)\n",
    "vaccini = ranges['a2']\n",
    "a2 = list(range(vaccini[0], vaccini[1]+1))\n",
    "#print(a2)"
   ]
  },
  {
   "cell_type": "markdown",
   "id": "313be53f",
   "metadata": {},
   "source": [
    "### Leggi il PDF con tabula-py, usando il template generato con tabula"
   ]
  },
  {
   "cell_type": "code",
   "execution_count": 10,
   "id": "a6beac26",
   "metadata": {},
   "outputs": [
    {
     "name": "stdout",
     "output_type": "stream",
     "text": [
      "Leggo PDF...attendi...\n",
      "Ho letto.\n"
     ]
    }
   ],
   "source": [
    "print('Leggo PDF...attendi...')\n",
    "#pdf = tabula.read_pdf_with_template(path+file, './templates/template_vaccini.json', pandas_options={'header': None}, multiple_tables=False, silent=True)\n",
    "pdf = tabula.read_pdf(path+file, pages=a2, pandas_options={'header': None}, multiple_tables=True, stream=True)\n",
    "print('Ho letto.')"
   ]
  },
  {
   "cell_type": "markdown",
   "id": "f59cfad6",
   "metadata": {},
   "source": [
    "### Unisci in un unico dataframe e bonifica i dati"
   ]
  },
  {
   "cell_type": "code",
   "execution_count": 11,
   "id": "a78c4e3d",
   "metadata": {},
   "outputs": [],
   "source": [
    "vax = pd.concat(pdf).reset_index(drop=True)\n",
    "vax = vax.dropna(thresh=3)\n",
    "vax = vax[~vax[0].str.contains(\"Provincia\", na=False)]\n",
    "vax.drop(vax.columns[[0]], axis=1, inplace=True)\n",
    "\n",
    "for index, row in vax.iterrows():\n",
    "    if(pd.isnull(row[2])):\n",
    "        row[2] = row[3]\n",
    "        row[3] = row[4]\n",
    "\n",
    "        \n",
    "vax.reset_index(drop=True, inplace=True)\n",
    "\n",
    "vax.drop(vax.columns[3], axis=1, inplace=True)\n",
    "\n",
    "vax.columns = ['comune', '%vaccinati', '%immunizzati']"
   ]
  },
  {
   "cell_type": "markdown",
   "id": "84221f3b",
   "metadata": {},
   "source": [
    "### Carica l'helper comuni siciliani"
   ]
  },
  {
   "cell_type": "code",
   "execution_count": 12,
   "id": "b93e4b2f",
   "metadata": {},
   "outputs": [],
   "source": [
    "comuni = pd.DataFrame(pd.read_csv(\"./utilities/Elenco-comuni-siciliani.csv\", converters={'pro_com_t': '{:0>6}'.format}))"
   ]
  },
  {
   "cell_type": "markdown",
   "id": "f8dd251e",
   "metadata": {},
   "source": [
    "### Inner join tra dataframes"
   ]
  },
  {
   "cell_type": "code",
   "execution_count": 13,
   "id": "b8aef164",
   "metadata": {},
   "outputs": [],
   "source": [
    "out = pd.merge(vax, comuni, on='comune', how='inner')\n",
    "out = out[['cod_prov','pro_com_t','provincia','comune','%vaccinati','%immunizzati']]"
   ]
  },
  {
   "cell_type": "markdown",
   "id": "bca81abd",
   "metadata": {},
   "source": [
    "### 'Converti' percentuali a float e inserisci data"
   ]
  },
  {
   "cell_type": "code",
   "execution_count": 14,
   "id": "ad1e8446",
   "metadata": {},
   "outputs": [],
   "source": [
    "out[\"%vaccinati\"] = out[\"%vaccinati\"].str.replace(',','.').str.rstrip('%')\n",
    "out[\"%immunizzati\"] = out[\"%immunizzati\"].str.replace(',','.').str.rstrip('%')\n",
    "out.insert(0, 'data', date.strftime('%Y-%m-%d'))"
   ]
  },
  {
   "cell_type": "code",
   "execution_count": 15,
   "id": "01fe2d7d",
   "metadata": {},
   "outputs": [
    {
     "data": {
      "text/html": [
       "<div>\n",
       "<style scoped>\n",
       "    .dataframe tbody tr th:only-of-type {\n",
       "        vertical-align: middle;\n",
       "    }\n",
       "\n",
       "    .dataframe tbody tr th {\n",
       "        vertical-align: top;\n",
       "    }\n",
       "\n",
       "    .dataframe thead th {\n",
       "        text-align: right;\n",
       "    }\n",
       "</style>\n",
       "<table border=\"1\" class=\"dataframe\">\n",
       "  <thead>\n",
       "    <tr style=\"text-align: right;\">\n",
       "      <th></th>\n",
       "      <th>data</th>\n",
       "      <th>cod_prov</th>\n",
       "      <th>pro_com_t</th>\n",
       "      <th>provincia</th>\n",
       "      <th>comune</th>\n",
       "      <th>%vaccinati</th>\n",
       "      <th>%immunizzati</th>\n",
       "    </tr>\n",
       "  </thead>\n",
       "  <tbody>\n",
       "    <tr>\n",
       "      <th>0</th>\n",
       "      <td>2021-11-04</td>\n",
       "      <td>84</td>\n",
       "      <td>084001</td>\n",
       "      <td>Agrigento</td>\n",
       "      <td>Agrigento</td>\n",
       "      <td>87.56</td>\n",
       "      <td>84.87</td>\n",
       "    </tr>\n",
       "    <tr>\n",
       "      <th>1</th>\n",
       "      <td>2021-11-04</td>\n",
       "      <td>84</td>\n",
       "      <td>084002</td>\n",
       "      <td>Agrigento</td>\n",
       "      <td>Alessandria della Rocca</td>\n",
       "      <td>84.73</td>\n",
       "      <td>82.96</td>\n",
       "    </tr>\n",
       "    <tr>\n",
       "      <th>2</th>\n",
       "      <td>2021-11-04</td>\n",
       "      <td>84</td>\n",
       "      <td>084003</td>\n",
       "      <td>Agrigento</td>\n",
       "      <td>Aragona</td>\n",
       "      <td>88.71</td>\n",
       "      <td>86.42</td>\n",
       "    </tr>\n",
       "    <tr>\n",
       "      <th>3</th>\n",
       "      <td>2021-11-04</td>\n",
       "      <td>84</td>\n",
       "      <td>084004</td>\n",
       "      <td>Agrigento</td>\n",
       "      <td>Bivona</td>\n",
       "      <td>85.55</td>\n",
       "      <td>83.66</td>\n",
       "    </tr>\n",
       "    <tr>\n",
       "      <th>4</th>\n",
       "      <td>2021-11-04</td>\n",
       "      <td>84</td>\n",
       "      <td>084005</td>\n",
       "      <td>Agrigento</td>\n",
       "      <td>Burgio</td>\n",
       "      <td>89.64</td>\n",
       "      <td>88.25</td>\n",
       "    </tr>\n",
       "    <tr>\n",
       "      <th>...</th>\n",
       "      <td>...</td>\n",
       "      <td>...</td>\n",
       "      <td>...</td>\n",
       "      <td>...</td>\n",
       "      <td>...</td>\n",
       "      <td>...</td>\n",
       "      <td>...</td>\n",
       "    </tr>\n",
       "    <tr>\n",
       "      <th>385</th>\n",
       "      <td>2021-11-04</td>\n",
       "      <td>81</td>\n",
       "      <td>081020</td>\n",
       "      <td>Trapani</td>\n",
       "      <td>San Vito Lo Capo</td>\n",
       "      <td>74.75</td>\n",
       "      <td>69.73</td>\n",
       "    </tr>\n",
       "    <tr>\n",
       "      <th>386</th>\n",
       "      <td>2021-11-04</td>\n",
       "      <td>81</td>\n",
       "      <td>081019</td>\n",
       "      <td>Trapani</td>\n",
       "      <td>Santa Ninfa</td>\n",
       "      <td>87.47</td>\n",
       "      <td>84.51</td>\n",
       "    </tr>\n",
       "    <tr>\n",
       "      <th>387</th>\n",
       "      <td>2021-11-04</td>\n",
       "      <td>81</td>\n",
       "      <td>081021</td>\n",
       "      <td>Trapani</td>\n",
       "      <td>Trapani</td>\n",
       "      <td>79.56</td>\n",
       "      <td>75.04</td>\n",
       "    </tr>\n",
       "    <tr>\n",
       "      <th>388</th>\n",
       "      <td>2021-11-04</td>\n",
       "      <td>81</td>\n",
       "      <td>081022</td>\n",
       "      <td>Trapani</td>\n",
       "      <td>Valderice</td>\n",
       "      <td>81.10</td>\n",
       "      <td>76.92</td>\n",
       "    </tr>\n",
       "    <tr>\n",
       "      <th>389</th>\n",
       "      <td>2021-11-04</td>\n",
       "      <td>81</td>\n",
       "      <td>081023</td>\n",
       "      <td>Trapani</td>\n",
       "      <td>Vita</td>\n",
       "      <td>86.42</td>\n",
       "      <td>83.72</td>\n",
       "    </tr>\n",
       "  </tbody>\n",
       "</table>\n",
       "<p>390 rows × 7 columns</p>\n",
       "</div>"
      ],
      "text/plain": [
       "           data  cod_prov pro_com_t  provincia                   comune  \\\n",
       "0    2021-11-04        84    084001  Agrigento                Agrigento   \n",
       "1    2021-11-04        84    084002  Agrigento  Alessandria della Rocca   \n",
       "2    2021-11-04        84    084003  Agrigento                  Aragona   \n",
       "3    2021-11-04        84    084004  Agrigento                   Bivona   \n",
       "4    2021-11-04        84    084005  Agrigento                   Burgio   \n",
       "..          ...       ...       ...        ...                      ...   \n",
       "385  2021-11-04        81    081020    Trapani         San Vito Lo Capo   \n",
       "386  2021-11-04        81    081019    Trapani              Santa Ninfa   \n",
       "387  2021-11-04        81    081021    Trapani                  Trapani   \n",
       "388  2021-11-04        81    081022    Trapani                Valderice   \n",
       "389  2021-11-04        81    081023    Trapani                     Vita   \n",
       "\n",
       "    %vaccinati %immunizzati  \n",
       "0        87.56        84.87  \n",
       "1        84.73        82.96  \n",
       "2        88.71        86.42  \n",
       "3        85.55        83.66  \n",
       "4        89.64        88.25  \n",
       "..         ...          ...  \n",
       "385      74.75        69.73  \n",
       "386      87.47        84.51  \n",
       "387      79.56        75.04  \n",
       "388      81.10        76.92  \n",
       "389      86.42        83.72  \n",
       "\n",
       "[390 rows x 7 columns]"
      ]
     },
     "execution_count": 15,
     "metadata": {},
     "output_type": "execute_result"
    }
   ],
   "source": [
    "out"
   ]
  },
  {
   "cell_type": "markdown",
   "id": "c54a01a8",
   "metadata": {},
   "source": [
    "### Esporta in CSV"
   ]
  },
  {
   "cell_type": "code",
   "execution_count": 16,
   "id": "33d58235",
   "metadata": {},
   "outputs": [
    {
     "name": "stdout",
     "output_type": "stream",
     "text": [
      "Converto in CSV.\n"
     ]
    }
   ],
   "source": [
    "print('Converto in CSV.')\n",
    "out.to_csv('./dati-csv/vaccinati-'+date.strftime('%Y%m%d')+'.csv', index=None, header=True)"
   ]
  },
  {
   "cell_type": "code",
   "execution_count": null,
   "id": "96b85d4f",
   "metadata": {},
   "outputs": [],
   "source": []
  }
 ],
 "metadata": {
  "kernelspec": {
   "display_name": "Python 3 (ipykernel)",
   "language": "python",
   "name": "python3"
  },
  "language_info": {
   "codemirror_mode": {
    "name": "ipython",
    "version": 3
   },
   "file_extension": ".py",
   "mimetype": "text/x-python",
   "name": "python",
   "nbconvert_exporter": "python",
   "pygments_lexer": "ipython3",
   "version": "3.8.10"
  }
 },
 "nbformat": 4,
 "nbformat_minor": 5
}
