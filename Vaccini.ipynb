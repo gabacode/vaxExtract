{
 "cells": [
  {
   "cell_type": "code",
   "execution_count": 85,
   "id": "6117ff5b",
   "metadata": {},
   "outputs": [],
   "source": [
    "from bs4 import BeautifulSoup\n",
    "from datetime import datetime\n",
    "import feedparser\n",
    "import json\n",
    "import os\n",
    "import pandas as pd\n",
    "import requests\n",
    "import tabula"
   ]
  },
  {
   "cell_type": "code",
   "execution_count": 86,
   "id": "63355c25",
   "metadata": {},
   "outputs": [],
   "source": [
    "url = 'https://www.regione.sicilia.it'\n",
    "feed = feedparser.parse(url+'/feed')"
   ]
  },
  {
   "cell_type": "code",
   "execution_count": 87,
   "id": "f812d369",
   "metadata": {},
   "outputs": [
    {
     "name": "stdout",
     "output_type": "stream",
     "text": [
      "http://www.regione.sicilia.it/la-regione-informa/covid-bollettino-settimanale-aumento-nuovi-casi-calo-prime-dosi\n"
     ]
    }
   ],
   "source": [
    "f = [field for field in feed['entries'] if 'bollettino settimanale' in field['title']]\n",
    "link = f[0]['links'][0]['href']\n",
    "print(link)"
   ]
  },
  {
   "cell_type": "code",
   "execution_count": 88,
   "id": "444faa9f",
   "metadata": {},
   "outputs": [],
   "source": [
    "html = requests.get(link)\n",
    "soup = BeautifulSoup(html.text, 'html.parser')\n",
    "links = soup.find_all('a')"
   ]
  },
  {
   "cell_type": "code",
   "execution_count": 89,
   "id": "67c37da3",
   "metadata": {},
   "outputs": [
    {
     "name": "stdout",
     "output_type": "stream",
     "text": [
      "https://www.regione.sicilia.it/sites/default/files/2021-10/Report%20Completo%2027%20Ottobre%202021.pdf\n"
     ]
    }
   ],
   "source": [
    "for link in links:\n",
    "    if ('.pdf' in link.get('href')):\n",
    "        pdf = url+link.get('href')\n",
    "\n",
    "print(pdf)"
   ]
  },
  {
   "cell_type": "code",
   "execution_count": 90,
   "id": "30665974",
   "metadata": {},
   "outputs": [
    {
     "name": "stdout",
     "output_type": "stream",
     "text": [
      "PDF Scaricato.\n"
     ]
    }
   ],
   "source": [
    "r = requests.get(pdf, stream=True)\n",
    "with open('./downloads/'+datetime.now().strftime(\"%Y%m%d\")+'.pdf', 'wb') as f:\n",
    "    f.write(r.content)\n",
    "    print(\"PDF Scaricato.\")"
   ]
  },
  {
   "cell_type": "code",
   "execution_count": 91,
   "id": "8b6b2085",
   "metadata": {},
   "outputs": [],
   "source": [
    "files = []\n",
    "path = './downloads/'\n",
    "\n",
    "for file in os.listdir(path):\n",
    "    if (file.endswith('.pdf')):\n",
    "        files.append(file)\n",
    "\n",
    "files.sort()\n",
    "file = files[0]"
   ]
  },
  {
   "cell_type": "markdown",
   "id": "313be53f",
   "metadata": {},
   "source": [
    "## Tabula"
   ]
  },
  {
   "cell_type": "code",
   "execution_count": 92,
   "id": "a6beac26",
   "metadata": {},
   "outputs": [
    {
     "name": "stdout",
     "output_type": "stream",
     "text": [
      "Leggo PDF...attendi...\n",
      "Ho letto.\n"
     ]
    }
   ],
   "source": [
    "print('Leggo PDF...attendi...')\n",
    "df = tabula.read_pdf_with_template(path+file, 'template_vaccini.json', pandas_options={'header': None}, multiple_tables=False, silent=True)\n",
    "print('Ho letto.')"
   ]
  },
  {
   "cell_type": "code",
   "execution_count": 93,
   "id": "a78c4e3d",
   "metadata": {},
   "outputs": [],
   "source": [
    "join = pd.concat(df).reset_index(drop=True)\n",
    "join.columns = ['Comune', 'Vaccinati', 'Immunizzati']"
   ]
  },
  {
   "cell_type": "code",
   "execution_count": 94,
   "id": "b93e4b2f",
   "metadata": {},
   "outputs": [
    {
     "data": {
      "text/html": [
       "<div>\n",
       "<style scoped>\n",
       "    .dataframe tbody tr th:only-of-type {\n",
       "        vertical-align: middle;\n",
       "    }\n",
       "\n",
       "    .dataframe tbody tr th {\n",
       "        vertical-align: top;\n",
       "    }\n",
       "\n",
       "    .dataframe thead th {\n",
       "        text-align: right;\n",
       "    }\n",
       "</style>\n",
       "<table border=\"1\" class=\"dataframe\">\n",
       "  <thead>\n",
       "    <tr style=\"text-align: right;\">\n",
       "      <th></th>\n",
       "      <th>Comune</th>\n",
       "      <th>Vaccinati</th>\n",
       "      <th>Immunizzati</th>\n",
       "    </tr>\n",
       "  </thead>\n",
       "  <tbody>\n",
       "    <tr>\n",
       "      <th>0</th>\n",
       "      <td>Agrigento</td>\n",
       "      <td>87,37%</td>\n",
       "      <td>84,36%</td>\n",
       "    </tr>\n",
       "    <tr>\n",
       "      <th>1</th>\n",
       "      <td>Alessandria della Rocca</td>\n",
       "      <td>84,65%</td>\n",
       "      <td>82,72%</td>\n",
       "    </tr>\n",
       "    <tr>\n",
       "      <th>2</th>\n",
       "      <td>Aragona</td>\n",
       "      <td>88,61%</td>\n",
       "      <td>86,08%</td>\n",
       "    </tr>\n",
       "    <tr>\n",
       "      <th>3</th>\n",
       "      <td>Bivona</td>\n",
       "      <td>85,46%</td>\n",
       "      <td>83,37%</td>\n",
       "    </tr>\n",
       "    <tr>\n",
       "      <th>4</th>\n",
       "      <td>Burgio</td>\n",
       "      <td>89,60%</td>\n",
       "      <td>88,12%</td>\n",
       "    </tr>\n",
       "    <tr>\n",
       "      <th>...</th>\n",
       "      <td>...</td>\n",
       "      <td>...</td>\n",
       "      <td>...</td>\n",
       "    </tr>\n",
       "    <tr>\n",
       "      <th>385</th>\n",
       "      <td>San Vito Lo Capo</td>\n",
       "      <td>74,59%</td>\n",
       "      <td>68,89%</td>\n",
       "    </tr>\n",
       "    <tr>\n",
       "      <th>386</th>\n",
       "      <td>Santa Ninfa</td>\n",
       "      <td>87,36%</td>\n",
       "      <td>84,00%</td>\n",
       "    </tr>\n",
       "    <tr>\n",
       "      <th>387</th>\n",
       "      <td>Trapani</td>\n",
       "      <td>79,17%</td>\n",
       "      <td>74,29%</td>\n",
       "    </tr>\n",
       "    <tr>\n",
       "      <th>388</th>\n",
       "      <td>Valderice</td>\n",
       "      <td>80,79%</td>\n",
       "      <td>76,27%</td>\n",
       "    </tr>\n",
       "    <tr>\n",
       "      <th>389</th>\n",
       "      <td>Vita</td>\n",
       "      <td>86,18%</td>\n",
       "      <td>83,49%</td>\n",
       "    </tr>\n",
       "  </tbody>\n",
       "</table>\n",
       "<p>390 rows × 3 columns</p>\n",
       "</div>"
      ],
      "text/plain": [
       "                      Comune Vaccinati Immunizzati\n",
       "0                  Agrigento    87,37%      84,36%\n",
       "1    Alessandria della Rocca    84,65%      82,72%\n",
       "2                    Aragona    88,61%      86,08%\n",
       "3                     Bivona    85,46%      83,37%\n",
       "4                     Burgio    89,60%      88,12%\n",
       "..                       ...       ...         ...\n",
       "385         San Vito Lo Capo    74,59%      68,89%\n",
       "386              Santa Ninfa    87,36%      84,00%\n",
       "387                  Trapani    79,17%      74,29%\n",
       "388                Valderice    80,79%      76,27%\n",
       "389                     Vita    86,18%      83,49%\n",
       "\n",
       "[390 rows x 3 columns]"
      ]
     },
     "execution_count": 94,
     "metadata": {},
     "output_type": "execute_result"
    }
   ],
   "source": [
    "join"
   ]
  },
  {
   "cell_type": "code",
   "execution_count": 95,
   "id": "33d58235",
   "metadata": {},
   "outputs": [
    {
     "name": "stdout",
     "output_type": "stream",
     "text": [
      "Converto in CSV.\n"
     ]
    }
   ],
   "source": [
    "print('Converto in CSV.')\n",
    "join.to_csv('tabula-'+file[:-4]+'.csv', index=None, header=True)"
   ]
  }
 ],
 "metadata": {
  "kernelspec": {
   "display_name": "Python 3 (ipykernel)",
   "language": "python",
   "name": "python3"
  },
  "language_info": {
   "codemirror_mode": {
    "name": "ipython",
    "version": 3
   },
   "file_extension": ".py",
   "mimetype": "text/x-python",
   "name": "python",
   "nbconvert_exporter": "python",
   "pygments_lexer": "ipython3",
   "version": "3.8.10"
  }
 },
 "nbformat": 4,
 "nbformat_minor": 5
}
