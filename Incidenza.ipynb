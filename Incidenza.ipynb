{
 "cells": [
  {
   "cell_type": "code",
   "execution_count": 1,
   "id": "efc6b2a0",
   "metadata": {},
   "outputs": [],
   "source": [
    "import pandas as pd\n",
    "import PyPDF2\n",
    "from scripts.functions import getRanges, isDigit"
   ]
  },
  {
   "cell_type": "code",
   "execution_count": 2,
   "id": "d398b45e",
   "metadata": {},
   "outputs": [],
   "source": [
    "file = './downloads/report-20211201.pdf'\n",
    "pdfFileObj = open(file,'rb')\n",
    "pdfReader = PyPDF2.PdfFileReader(pdfFileObj)"
   ]
  },
  {
   "cell_type": "code",
   "execution_count": 3,
   "id": "fa5f0779",
   "metadata": {},
   "outputs": [
    {
     "name": "stdout",
     "output_type": "stream",
     "text": [
      "[18, 29]\n"
     ]
    }
   ],
   "source": [
    "pages = getRanges(file)\n",
    "incidenza = pages['incidenza']\n",
    "print(incidenza)"
   ]
  },
  {
   "cell_type": "code",
   "execution_count": 4,
   "id": "3f0895e4",
   "metadata": {},
   "outputs": [
    {
     "name": "stdout",
     "output_type": "stream",
     "text": [
      "18 30\n"
     ]
    }
   ],
   "source": [
    "textes = []\n",
    "\n",
    "print(incidenza[0], incidenza[1]+1)\n",
    "\n",
    "try:\n",
    "    for i in range(incidenza[0], incidenza[1]+1):\n",
    "            pageObj = pdfReader.getPage(i)\n",
    "            text = pageObj.extractText()\n",
    "            text = text.replace('\\n', ' ')\n",
    "            textes.append(text[2::])\n",
    "    pdfFileObj.close()\n",
    "except Exception as e:\n",
    "    pass"
   ]
  },
  {
   "cell_type": "code",
   "execution_count": 5,
   "id": "32a575be",
   "metadata": {},
   "outputs": [],
   "source": [
    "out = ' '.join(textes)\\\n",
    "         .rpartition('settimane')[2]\\\n",
    "         .rpartition('Totale')[0]\\\n",
    "         .replace('- ', '-')\\\n",
    "         .replace('---', '0%')\\\n",
    "         .replace('  ', ' ')\\\n",
    "         .replace('  ', ' ')\\\n",
    "         .replace('  ', ' ')\\\n",
    "         .replace('%', '')\\\n",
    "         .replace(\"O'\",\"Ò\").replace(\"I'\",\"Ì\").replace(\"U'\",\"Ù\")\\\n",
    "         .split()"
   ]
  },
  {
   "cell_type": "code",
   "execution_count": 6,
   "id": "793ba7da",
   "metadata": {},
   "outputs": [],
   "source": [
    "new = \"\"\n",
    "\n",
    "for split in out:\n",
    "    if not isDigit(split):\n",
    "        new = new + split + ' '\n",
    "    if isDigit(split):\n",
    "        new = new + ','+ split + ','\n",
    "\n",
    "new = new.replace(',,', ',').replace(' ,', ',').replace(' -','-').split(',')"
   ]
  },
  {
   "cell_type": "code",
   "execution_count": 7,
   "id": "abcc796f",
   "metadata": {},
   "outputs": [],
   "source": [
    "it = iter(new)\n",
    "data = list(zip(it, it, it, it))"
   ]
  },
  {
   "cell_type": "code",
   "execution_count": 8,
   "id": "29c0ffe4",
   "metadata": {},
   "outputs": [],
   "source": [
    "df = pd.DataFrame(data, columns = ['comune', 'casi', 'incidenza', 'variazione'])\n",
    "df = df[['comune', 'incidenza', 'casi']]"
   ]
  },
  {
   "cell_type": "code",
   "execution_count": 9,
   "id": "2a31a63d",
   "metadata": {},
   "outputs": [],
   "source": [
    "incidenza = df[~df[\"comune\"].duplicated(keep=\"last\")]\n",
    "incidenza.reset_index(inplace=True, drop=True)"
   ]
  },
  {
   "cell_type": "code",
   "execution_count": 10,
   "id": "5864220d",
   "metadata": {},
   "outputs": [],
   "source": [
    "comuni = pd.DataFrame(pd.read_csv('https://raw.githubusercontent.com/gabacode/vaxExtract/main/utilities/Elenco-comuni-siciliani.csv', converters={'pro_com_t': '{:0>6}'.format}))"
   ]
  },
  {
   "cell_type": "code",
   "execution_count": 11,
   "id": "967dcfe0",
   "metadata": {},
   "outputs": [],
   "source": [
    "out = pd.merge(incidenza, comuni, left_on=incidenza[\"comune\"].str.lower(), right_on=comuni[\"comune\"].str.lower(), how=\"inner\")\n",
    "out.rename(columns = {'comune_y':'comune'}, inplace = True)\n",
    "out = out[['cod_prov','pro_com_t','provincia','comune','incidenza','casi']].sort_values(by=['provincia', 'comune'])"
   ]
  },
  {
   "cell_type": "code",
   "execution_count": 12,
   "id": "4473a177",
   "metadata": {},
   "outputs": [
    {
     "data": {
      "text/html": [
       "<div>\n",
       "<style scoped>\n",
       "    .dataframe tbody tr th:only-of-type {\n",
       "        vertical-align: middle;\n",
       "    }\n",
       "\n",
       "    .dataframe tbody tr th {\n",
       "        vertical-align: top;\n",
       "    }\n",
       "\n",
       "    .dataframe thead th {\n",
       "        text-align: right;\n",
       "    }\n",
       "</style>\n",
       "<table border=\"1\" class=\"dataframe\">\n",
       "  <thead>\n",
       "    <tr style=\"text-align: right;\">\n",
       "      <th></th>\n",
       "      <th>cod_prov</th>\n",
       "      <th>pro_com_t</th>\n",
       "      <th>provincia</th>\n",
       "      <th>comune</th>\n",
       "      <th>incidenza</th>\n",
       "      <th>casi</th>\n",
       "    </tr>\n",
       "  </thead>\n",
       "  <tbody>\n",
       "    <tr>\n",
       "      <th>0</th>\n",
       "      <td>84</td>\n",
       "      <td>084001</td>\n",
       "      <td>Agrigento</td>\n",
       "      <td>Agrigento</td>\n",
       "      <td>57.10</td>\n",
       "      <td>32</td>\n",
       "    </tr>\n",
       "    <tr>\n",
       "      <th>1</th>\n",
       "      <td>84</td>\n",
       "      <td>084002</td>\n",
       "      <td>Agrigento</td>\n",
       "      <td>Alessandria della Rocca</td>\n",
       "      <td>0.00</td>\n",
       "      <td>0</td>\n",
       "    </tr>\n",
       "    <tr>\n",
       "      <th>2</th>\n",
       "      <td>84</td>\n",
       "      <td>084003</td>\n",
       "      <td>Agrigento</td>\n",
       "      <td>Aragona</td>\n",
       "      <td>22.19</td>\n",
       "      <td>2</td>\n",
       "    </tr>\n",
       "    <tr>\n",
       "      <th>3</th>\n",
       "      <td>84</td>\n",
       "      <td>084004</td>\n",
       "      <td>Agrigento</td>\n",
       "      <td>Bivona</td>\n",
       "      <td>0.00</td>\n",
       "      <td>0</td>\n",
       "    </tr>\n",
       "    <tr>\n",
       "      <th>4</th>\n",
       "      <td>84</td>\n",
       "      <td>084005</td>\n",
       "      <td>Agrigento</td>\n",
       "      <td>Burgio</td>\n",
       "      <td>38.88</td>\n",
       "      <td>1</td>\n",
       "    </tr>\n",
       "    <tr>\n",
       "      <th>...</th>\n",
       "      <td>...</td>\n",
       "      <td>...</td>\n",
       "      <td>...</td>\n",
       "      <td>...</td>\n",
       "      <td>...</td>\n",
       "      <td>...</td>\n",
       "    </tr>\n",
       "    <tr>\n",
       "      <th>385</th>\n",
       "      <td>81</td>\n",
       "      <td>081020</td>\n",
       "      <td>Trapani</td>\n",
       "      <td>San Vito Lo Capo</td>\n",
       "      <td>62.41</td>\n",
       "      <td>3</td>\n",
       "    </tr>\n",
       "    <tr>\n",
       "      <th>386</th>\n",
       "      <td>81</td>\n",
       "      <td>081019</td>\n",
       "      <td>Trapani</td>\n",
       "      <td>Santa Ninfa</td>\n",
       "      <td>61.54</td>\n",
       "      <td>3</td>\n",
       "    </tr>\n",
       "    <tr>\n",
       "      <th>387</th>\n",
       "      <td>81</td>\n",
       "      <td>081021</td>\n",
       "      <td>Trapani</td>\n",
       "      <td>Trapani</td>\n",
       "      <td>139.47</td>\n",
       "      <td>91</td>\n",
       "    </tr>\n",
       "    <tr>\n",
       "      <th>388</th>\n",
       "      <td>81</td>\n",
       "      <td>081022</td>\n",
       "      <td>Trapani</td>\n",
       "      <td>Valderice</td>\n",
       "      <td>233.71</td>\n",
       "      <td>27</td>\n",
       "    </tr>\n",
       "    <tr>\n",
       "      <th>389</th>\n",
       "      <td>81</td>\n",
       "      <td>081023</td>\n",
       "      <td>Trapani</td>\n",
       "      <td>Vita</td>\n",
       "      <td>0.00</td>\n",
       "      <td>0</td>\n",
       "    </tr>\n",
       "  </tbody>\n",
       "</table>\n",
       "<p>390 rows × 6 columns</p>\n",
       "</div>"
      ],
      "text/plain": [
       "     cod_prov pro_com_t  provincia                   comune incidenza casi\n",
       "0          84    084001  Agrigento                Agrigento     57.10   32\n",
       "1          84    084002  Agrigento  Alessandria della Rocca      0.00    0\n",
       "2          84    084003  Agrigento                  Aragona     22.19    2\n",
       "3          84    084004  Agrigento                   Bivona      0.00    0\n",
       "4          84    084005  Agrigento                   Burgio     38.88    1\n",
       "..        ...       ...        ...                      ...       ...  ...\n",
       "385        81    081020    Trapani         San Vito Lo Capo     62.41    3\n",
       "386        81    081019    Trapani              Santa Ninfa     61.54    3\n",
       "387        81    081021    Trapani                  Trapani    139.47   91\n",
       "388        81    081022    Trapani                Valderice    233.71   27\n",
       "389        81    081023    Trapani                     Vita      0.00    0\n",
       "\n",
       "[390 rows x 6 columns]"
      ]
     },
     "execution_count": 12,
     "metadata": {},
     "output_type": "execute_result"
    }
   ],
   "source": [
    "out.reset_index(drop=True, inplace=True)\n",
    "out"
   ]
  },
  {
   "cell_type": "code",
   "execution_count": null,
   "id": "2046079d",
   "metadata": {},
   "outputs": [],
   "source": []
  }
 ],
 "metadata": {
  "kernelspec": {
   "display_name": "Python 3 (ipykernel)",
   "language": "python",
   "name": "python3"
  },
  "language_info": {
   "codemirror_mode": {
    "name": "ipython",
    "version": 3
   },
   "file_extension": ".py",
   "mimetype": "text/x-python",
   "name": "python",
   "nbconvert_exporter": "python",
   "pygments_lexer": "ipython3",
   "version": "3.8.10"
  }
 },
 "nbformat": 4,
 "nbformat_minor": 5
}
