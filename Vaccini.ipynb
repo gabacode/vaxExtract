{
 "cells": [
  {
   "cell_type": "code",
   "execution_count": 2,
   "id": "6117ff5b",
   "metadata": {},
   "outputs": [],
   "source": [
    "from bs4 import BeautifulSoup\n",
    "from datetime import datetime\n",
    "import feedparser\n",
    "import json\n",
    "import os\n",
    "import pandas as pd\n",
    "import requests\n",
    "import tabula"
   ]
  },
  {
   "cell_type": "code",
   "execution_count": 3,
   "id": "63355c25",
   "metadata": {},
   "outputs": [],
   "source": [
    "url = 'https://www.regione.sicilia.it'\n",
    "feed = feedparser.parse(url+'/feed')"
   ]
  },
  {
   "cell_type": "code",
   "execution_count": 4,
   "id": "f812d369",
   "metadata": {},
   "outputs": [
    {
     "name": "stdout",
     "output_type": "stream",
     "text": [
      "http://www.regione.sicilia.it/la-regione-informa/covid-bollettino-settimanale-aumento-nuovi-casi-calo-prime-dosi\n"
     ]
    }
   ],
   "source": [
    "f = [field for field in feed['entries'] if 'bollettino settimanale' in field['title']]\n",
    "link = f[0]['links'][0]['href']\n",
    "print(link)"
   ]
  },
  {
   "cell_type": "code",
   "execution_count": 5,
   "id": "444faa9f",
   "metadata": {},
   "outputs": [],
   "source": [
    "html = requests.get(link)\n",
    "soup = BeautifulSoup(html.text, 'html.parser')\n",
    "links = soup.find_all('a')"
   ]
  },
  {
   "cell_type": "code",
   "execution_count": 6,
   "id": "67c37da3",
   "metadata": {},
   "outputs": [
    {
     "name": "stdout",
     "output_type": "stream",
     "text": [
      "https://www.regione.sicilia.it/sites/default/files/2021-10/Report%20Completo%2027%20Ottobre%202021.pdf\n"
     ]
    }
   ],
   "source": [
    "for link in links:\n",
    "    if ('.pdf' in link.get('href')):\n",
    "        pdf = url+link.get('href')\n",
    "\n",
    "print(pdf)"
   ]
  },
  {
   "cell_type": "code",
   "execution_count": 7,
   "id": "30665974",
   "metadata": {},
   "outputs": [
    {
     "name": "stdout",
     "output_type": "stream",
     "text": [
      "PDF Scaricato.\n"
     ]
    }
   ],
   "source": [
    "r = requests.get(pdf, stream=True)\n",
    "with open('./downloads/'+datetime.now().strftime(\"%Y%m%d\")+'.pdf', 'wb') as f:\n",
    "    f.write(r.content)\n",
    "    print(\"PDF Scaricato.\")"
   ]
  },
  {
   "cell_type": "code",
   "execution_count": 8,
   "id": "8b6b2085",
   "metadata": {},
   "outputs": [],
   "source": [
    "files = []\n",
    "path = './downloads/'\n",
    "\n",
    "for file in os.listdir(path):\n",
    "    if (file.endswith('.pdf')):\n",
    "        files.append(file)\n",
    "\n",
    "files.sort()\n",
    "file = files[0]"
   ]
  },
  {
   "cell_type": "markdown",
   "id": "313be53f",
   "metadata": {},
   "source": [
    "## Tabula"
   ]
  },
  {
   "cell_type": "code",
   "execution_count": 9,
   "id": "a6beac26",
   "metadata": {},
   "outputs": [
    {
     "name": "stdout",
     "output_type": "stream",
     "text": [
      "Leggo PDF...attendi...\n",
      "Ho letto.\n"
     ]
    }
   ],
   "source": [
    "print('Leggo PDF...attendi...')\n",
    "pdf = tabula.read_pdf_with_template(path+file, 'template_vaccini.json', pandas_options={'header': None}, multiple_tables=False, silent=True)\n",
    "print('Ho letto.')"
   ]
  },
  {
   "cell_type": "code",
   "execution_count": 10,
   "id": "a78c4e3d",
   "metadata": {},
   "outputs": [],
   "source": [
    "vax = pd.concat(pdf).reset_index(drop=True)\n",
    "vax.columns = ['comune', '%vaccinati1dose', '%Immunizzati']"
   ]
  },
  {
   "cell_type": "code",
   "execution_count": 11,
   "id": "b93e4b2f",
   "metadata": {},
   "outputs": [],
   "source": [
    "comuni = pd.DataFrame(pd.read_csv(\"./utilities/Elenco-comuni-siciliani.csv\", converters={'pro_com_t': '{:0>6}'.format}))"
   ]
  },
  {
   "cell_type": "code",
   "execution_count": 12,
   "id": "b8aef164",
   "metadata": {},
   "outputs": [],
   "source": [
    "out = pd.merge(vax, comuni, on='comune', how='inner')\n",
    "out = out[['cod_prov','pro_com_t','provincia','comune','%vaccinati1dose','%Immunizzati']]"
   ]
  },
  {
   "cell_type": "code",
   "execution_count": 13,
   "id": "ad1e8446",
   "metadata": {},
   "outputs": [],
   "source": [
    "out[\"%vaccinati1dose\"] = out[\"%vaccinati1dose\"].str.replace(',','.').str.rstrip('%')\n",
    "out[\"%Immunizzati\"] = out[\"%Immunizzati\"].str.replace(',','.').str.rstrip('%')"
   ]
  },
  {
   "cell_type": "code",
   "execution_count": 14,
   "id": "01fe2d7d",
   "metadata": {},
   "outputs": [
    {
     "data": {
      "text/html": [
       "<div>\n",
       "<style scoped>\n",
       "    .dataframe tbody tr th:only-of-type {\n",
       "        vertical-align: middle;\n",
       "    }\n",
       "\n",
       "    .dataframe tbody tr th {\n",
       "        vertical-align: top;\n",
       "    }\n",
       "\n",
       "    .dataframe thead th {\n",
       "        text-align: right;\n",
       "    }\n",
       "</style>\n",
       "<table border=\"1\" class=\"dataframe\">\n",
       "  <thead>\n",
       "    <tr style=\"text-align: right;\">\n",
       "      <th></th>\n",
       "      <th>cod_prov</th>\n",
       "      <th>pro_com_t</th>\n",
       "      <th>provincia</th>\n",
       "      <th>comune</th>\n",
       "      <th>%vaccinati1dose</th>\n",
       "      <th>%Immunizzati</th>\n",
       "    </tr>\n",
       "  </thead>\n",
       "  <tbody>\n",
       "    <tr>\n",
       "      <th>0</th>\n",
       "      <td>84</td>\n",
       "      <td>084001</td>\n",
       "      <td>Agrigento</td>\n",
       "      <td>Agrigento</td>\n",
       "      <td>87.37</td>\n",
       "      <td>84.36</td>\n",
       "    </tr>\n",
       "    <tr>\n",
       "      <th>1</th>\n",
       "      <td>84</td>\n",
       "      <td>084002</td>\n",
       "      <td>Agrigento</td>\n",
       "      <td>Alessandria della Rocca</td>\n",
       "      <td>84.65</td>\n",
       "      <td>82.72</td>\n",
       "    </tr>\n",
       "    <tr>\n",
       "      <th>2</th>\n",
       "      <td>84</td>\n",
       "      <td>084003</td>\n",
       "      <td>Agrigento</td>\n",
       "      <td>Aragona</td>\n",
       "      <td>88.61</td>\n",
       "      <td>86.08</td>\n",
       "    </tr>\n",
       "    <tr>\n",
       "      <th>3</th>\n",
       "      <td>84</td>\n",
       "      <td>084004</td>\n",
       "      <td>Agrigento</td>\n",
       "      <td>Bivona</td>\n",
       "      <td>85.46</td>\n",
       "      <td>83.37</td>\n",
       "    </tr>\n",
       "    <tr>\n",
       "      <th>4</th>\n",
       "      <td>84</td>\n",
       "      <td>084005</td>\n",
       "      <td>Agrigento</td>\n",
       "      <td>Burgio</td>\n",
       "      <td>89.60</td>\n",
       "      <td>88.12</td>\n",
       "    </tr>\n",
       "    <tr>\n",
       "      <th>...</th>\n",
       "      <td>...</td>\n",
       "      <td>...</td>\n",
       "      <td>...</td>\n",
       "      <td>...</td>\n",
       "      <td>...</td>\n",
       "      <td>...</td>\n",
       "    </tr>\n",
       "    <tr>\n",
       "      <th>385</th>\n",
       "      <td>81</td>\n",
       "      <td>081020</td>\n",
       "      <td>Trapani</td>\n",
       "      <td>San Vito Lo Capo</td>\n",
       "      <td>74.59</td>\n",
       "      <td>68.89</td>\n",
       "    </tr>\n",
       "    <tr>\n",
       "      <th>386</th>\n",
       "      <td>81</td>\n",
       "      <td>081019</td>\n",
       "      <td>Trapani</td>\n",
       "      <td>Santa Ninfa</td>\n",
       "      <td>87.36</td>\n",
       "      <td>84.00</td>\n",
       "    </tr>\n",
       "    <tr>\n",
       "      <th>387</th>\n",
       "      <td>81</td>\n",
       "      <td>081021</td>\n",
       "      <td>Trapani</td>\n",
       "      <td>Trapani</td>\n",
       "      <td>79.17</td>\n",
       "      <td>74.29</td>\n",
       "    </tr>\n",
       "    <tr>\n",
       "      <th>388</th>\n",
       "      <td>81</td>\n",
       "      <td>081022</td>\n",
       "      <td>Trapani</td>\n",
       "      <td>Valderice</td>\n",
       "      <td>80.79</td>\n",
       "      <td>76.27</td>\n",
       "    </tr>\n",
       "    <tr>\n",
       "      <th>389</th>\n",
       "      <td>81</td>\n",
       "      <td>081023</td>\n",
       "      <td>Trapani</td>\n",
       "      <td>Vita</td>\n",
       "      <td>86.18</td>\n",
       "      <td>83.49</td>\n",
       "    </tr>\n",
       "  </tbody>\n",
       "</table>\n",
       "<p>390 rows × 6 columns</p>\n",
       "</div>"
      ],
      "text/plain": [
       "     cod_prov pro_com_t  provincia                   comune %vaccinati1dose  \\\n",
       "0          84    084001  Agrigento                Agrigento           87.37   \n",
       "1          84    084002  Agrigento  Alessandria della Rocca           84.65   \n",
       "2          84    084003  Agrigento                  Aragona           88.61   \n",
       "3          84    084004  Agrigento                   Bivona           85.46   \n",
       "4          84    084005  Agrigento                   Burgio           89.60   \n",
       "..        ...       ...        ...                      ...             ...   \n",
       "385        81    081020    Trapani         San Vito Lo Capo           74.59   \n",
       "386        81    081019    Trapani              Santa Ninfa           87.36   \n",
       "387        81    081021    Trapani                  Trapani           79.17   \n",
       "388        81    081022    Trapani                Valderice           80.79   \n",
       "389        81    081023    Trapani                     Vita           86.18   \n",
       "\n",
       "    %Immunizzati  \n",
       "0          84.36  \n",
       "1          82.72  \n",
       "2          86.08  \n",
       "3          83.37  \n",
       "4          88.12  \n",
       "..           ...  \n",
       "385        68.89  \n",
       "386        84.00  \n",
       "387        74.29  \n",
       "388        76.27  \n",
       "389        83.49  \n",
       "\n",
       "[390 rows x 6 columns]"
      ]
     },
     "execution_count": 14,
     "metadata": {},
     "output_type": "execute_result"
    }
   ],
   "source": [
    "out"
   ]
  },
  {
   "cell_type": "code",
   "execution_count": null,
   "id": "33d58235",
   "metadata": {},
   "outputs": [],
   "source": [
    "print('Converto in CSV.')\n",
    "out.to_csv('tabula-'+file[:-4]+'.csv', index=None, header=True)"
   ]
  },
  {
   "cell_type": "code",
   "execution_count": null,
   "id": "0e679dc1",
   "metadata": {},
   "outputs": [],
   "source": []
  }
 ],
 "metadata": {
  "kernelspec": {
   "display_name": "Python 3 (ipykernel)",
   "language": "python",
   "name": "python3"
  },
  "language_info": {
   "codemirror_mode": {
    "name": "ipython",
    "version": 3
   },
   "file_extension": ".py",
   "mimetype": "text/x-python",
   "name": "python",
   "nbconvert_exporter": "python",
   "pygments_lexer": "ipython3",
   "version": "3.8.10"
  }
 },
 "nbformat": 4,
 "nbformat_minor": 5
}
