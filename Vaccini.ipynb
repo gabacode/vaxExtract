{
 "cells": [
  {
   "cell_type": "code",
   "execution_count": 1,
   "id": "6117ff5b",
   "metadata": {},
   "outputs": [],
   "source": [
    "from bs4 import BeautifulSoup\n",
    "from datetime import datetime\n",
    "import feedparser\n",
    "import locale\n",
    "import os\n",
    "import pandas as pd\n",
    "import requests\n",
    "import tabula\n",
    "from scripts.functions import getRanges, getDate"
   ]
  },
  {
   "cell_type": "markdown",
   "id": "4ce06df7",
   "metadata": {},
   "source": [
    "### Carica il feed .XML"
   ]
  },
  {
   "cell_type": "code",
   "execution_count": 2,
   "id": "63355c25",
   "metadata": {},
   "outputs": [],
   "source": [
    "url = 'https://www.regione.sicilia.it'"
   ]
  },
  {
   "cell_type": "markdown",
   "id": "51026666",
   "metadata": {},
   "source": [
    "### Per ogni entry che contiene la stringa nel titolo, selezionane il link"
   ]
  },
  {
   "cell_type": "code",
   "execution_count": 3,
   "id": "f812d369",
   "metadata": {
    "scrolled": true
   },
   "outputs": [
    {
     "name": "stdout",
     "output_type": "stream",
     "text": [
      "http://www.regione.sicilia.it/la-regione-informa/covid-bollettino-settimanale-incidenza-ancora-alta-eta-scolare-vaccini-aumento\n"
     ]
    }
   ],
   "source": [
    "try:\n",
    "    feed = feedparser.parse(url+'/feed')\n",
    "    f = [field for field in feed['entries'] if \"bollettino settimanale\" in field['title']]\n",
    "    link = f[0]['links'][0]['href']\n",
    "    print(link)\n",
    "except Exception as e:\n",
    "    print(datetime.now(), e)"
   ]
  },
  {
   "cell_type": "markdown",
   "id": "9af7e0a2",
   "metadata": {},
   "source": [
    "### Chiama il link e parsa l'html con Soup, trova tutti gli hyperlinks della pagina"
   ]
  },
  {
   "cell_type": "code",
   "execution_count": 4,
   "id": "444faa9f",
   "metadata": {},
   "outputs": [],
   "source": [
    "html = requests.get(link)\n",
    "soup = BeautifulSoup(html.text, 'html.parser')\n",
    "links = soup.find_all('a')"
   ]
  },
  {
   "cell_type": "markdown",
   "id": "d89724bb",
   "metadata": {},
   "source": [
    "### Tra tutti i link, prendi quello con il .pdf"
   ]
  },
  {
   "cell_type": "code",
   "execution_count": 5,
   "id": "67c37da3",
   "metadata": {},
   "outputs": [
    {
     "name": "stdout",
     "output_type": "stream",
     "text": [
      "https://www.regione.sicilia.it/sites/default/files/2021-11/Bollettino%20n.8%20del%2024%20novembre%202021.pdf\n"
     ]
    }
   ],
   "source": [
    "for link in links:\n",
    "    if ('.pdf' in link.get('href')):\n",
    "        pdf = url+link.get('href')\n",
    "\n",
    "print(pdf)"
   ]
  },
  {
   "cell_type": "markdown",
   "id": "e75e2890",
   "metadata": {},
   "source": [
    "### Scarica il PDF"
   ]
  },
  {
   "cell_type": "code",
   "execution_count": 6,
   "id": "30665974",
   "metadata": {},
   "outputs": [
    {
     "name": "stdout",
     "output_type": "stream",
     "text": [
      "PDF Scaricato: Bollettino%20n.8%20del%2024%20novembre%202021.pdf\n"
     ]
    }
   ],
   "source": [
    "filename = pdf.rsplit('/',1)[-1]\n",
    "r = requests.get(pdf, stream=True)\n",
    "with open('./downloads/'+filename, 'wb') as f:\n",
    "    f.write(r.content)\n",
    "    print(\"PDF Scaricato: \"+filename)"
   ]
  },
  {
   "cell_type": "markdown",
   "id": "2b29138d",
   "metadata": {},
   "source": [
    "### Estrae la data dal nome del PDF e aggiunge timestamp"
   ]
  },
  {
   "cell_type": "code",
   "execution_count": 7,
   "id": "c342dc0a",
   "metadata": {},
   "outputs": [
    {
     "name": "stdout",
     "output_type": "stream",
     "text": [
      "2021-11-24\n"
     ]
    }
   ],
   "source": [
    "locale.setlocale(locale.LC_TIME, 'it_IT.UTF-8')\n",
    "now = datetime.now().date()\n",
    "\n",
    "path = './downloads/'\n",
    "\n",
    "try: \n",
    "    date = getDate(path+filename)\n",
    "except:\n",
    "    try: \n",
    "        date = filename.rsplit('/', 1)[-1].replace('%20', '-').rstrip('.pdf').rsplit('-', 3)[1:]\n",
    "        date = datetime.strptime(' '.join(date), '%d %B %Y').date()\n",
    "    except:\n",
    "        date = now\n",
    "\n",
    "finally:\n",
    "    print(date)\n",
    "    os.rename(path+filename, path+'report-'+date.strftime('%Y%m%d')+'.pdf')"
   ]
  },
  {
   "cell_type": "markdown",
   "id": "f31ef50a",
   "metadata": {},
   "source": [
    "### Seleziona il piu recente PDF scaricato"
   ]
  },
  {
   "cell_type": "code",
   "execution_count": 8,
   "id": "8b6b2085",
   "metadata": {},
   "outputs": [
    {
     "name": "stdout",
     "output_type": "stream",
     "text": [
      "report-20211124.pdf\n"
     ]
    }
   ],
   "source": [
    "files = []\n",
    "path = './downloads/'\n",
    "\n",
    "for file in os.listdir(path):\n",
    "    if (file.endswith('.pdf')):\n",
    "        files.append(file)\n",
    "\n",
    "files.sort()\n",
    "file = files[-1]\n",
    "print(file)"
   ]
  },
  {
   "cell_type": "markdown",
   "id": "b1932b4f",
   "metadata": {},
   "source": [
    "### Quali pagine leggiamo?"
   ]
  },
  {
   "cell_type": "code",
   "execution_count": 9,
   "id": "51366a08",
   "metadata": {},
   "outputs": [
    {
     "name": "stdout",
     "output_type": "stream",
     "text": [
      "[29, 30, 31, 32, 33, 34, 35, 36, 37, 38, 39]\n"
     ]
    }
   ],
   "source": [
    "ranges = getRanges(path+file)\n",
    "vaccini = ranges['vaccini']\n",
    "a2 = list(range(vaccini[0], vaccini[1]+1))\n",
    "print(a2)"
   ]
  },
  {
   "cell_type": "markdown",
   "id": "313be53f",
   "metadata": {},
   "source": [
    "### Leggi il PDF con tabula-py"
   ]
  },
  {
   "cell_type": "code",
   "execution_count": 10,
   "id": "a6beac26",
   "metadata": {},
   "outputs": [
    {
     "name": "stdout",
     "output_type": "stream",
     "text": [
      "Leggo PDF...attendi...\n",
      "Ho letto.\n"
     ]
    }
   ],
   "source": [
    "print('Leggo PDF...attendi...')\n",
    "pdf = tabula.read_pdf(path+file, pages=a2, pandas_options={'header': None}, multiple_tables=True, stream=True, silent=True)\n",
    "print('Ho letto.')"
   ]
  },
  {
   "cell_type": "markdown",
   "id": "f59cfad6",
   "metadata": {},
   "source": [
    "### Unisci in un unico dataframe e bonifica i dati"
   ]
  },
  {
   "cell_type": "code",
   "execution_count": 11,
   "id": "a78c4e3d",
   "metadata": {},
   "outputs": [],
   "source": [
    "vax = pd.concat(pdf).reset_index(drop=True)\n",
    "vax = vax.dropna(thresh=3)\n",
    "vax = vax[~vax[0].str.contains(\"Provincia\", na=False)]\n",
    "vax.drop(vax.columns[[0]], axis=1, inplace=True)\n",
    "\n",
    "for index, row in vax.iterrows():\n",
    "    if(pd.isnull(row[2])):\n",
    "        row[2] = row[3]\n",
    "        row[3] = row[4]\n",
    "\n",
    "        \n",
    "vax.reset_index(drop=True, inplace=True)\n",
    "\n",
    "vax.drop(vax.columns[3], axis=1, inplace=True)\n",
    "\n",
    "vax.columns = ['comune', '%vaccinati', '%immunizzati']"
   ]
  },
  {
   "cell_type": "markdown",
   "id": "84221f3b",
   "metadata": {},
   "source": [
    "### Carica l'helper comuni siciliani"
   ]
  },
  {
   "cell_type": "code",
   "execution_count": 12,
   "id": "b93e4b2f",
   "metadata": {},
   "outputs": [],
   "source": [
    "comuni = pd.DataFrame(pd.read_csv('https://raw.githubusercontent.com/gabacode/vaxExtract/main/utilities/Elenco-comuni-siciliani.csv', converters={'pro_com_t': '{:0>6}'.format}))"
   ]
  },
  {
   "cell_type": "markdown",
   "id": "f8dd251e",
   "metadata": {},
   "source": [
    "### Inner join tra dataframes"
   ]
  },
  {
   "cell_type": "code",
   "execution_count": 13,
   "id": "b8aef164",
   "metadata": {},
   "outputs": [],
   "source": [
    "out = pd.merge(vax, comuni, on='comune', how='inner')\n",
    "out = out[['cod_prov','pro_com_t','provincia','comune','%vaccinati','%immunizzati']]"
   ]
  },
  {
   "cell_type": "markdown",
   "id": "bca81abd",
   "metadata": {},
   "source": [
    "### 'Converti' percentuali a float e inserisci data"
   ]
  },
  {
   "cell_type": "code",
   "execution_count": 14,
   "id": "ad1e8446",
   "metadata": {},
   "outputs": [],
   "source": [
    "out['%vaccinati'] = out['%vaccinati'].str.replace(',','.').str.rstrip('%')\n",
    "out['%immunizzati'] = out['%immunizzati'].str.replace(',','.').str.rstrip('%')\n",
    "out.insert(0, 'data', date.strftime('%Y-%m-%d'))"
   ]
  },
  {
   "cell_type": "markdown",
   "id": "1edbe7a0",
   "metadata": {},
   "source": [
    "### Seleziona target e calcola percentuali"
   ]
  },
  {
   "cell_type": "code",
   "execution_count": 15,
   "id": "b5dc5fca",
   "metadata": {},
   "outputs": [],
   "source": [
    "target = pd.read_csv('https://raw.githubusercontent.com/opendatasicilia/comuni-italiani/main/dati/ISTAT_popolazione_2021.csv', converters={'pro_com_t': '{:0>6}'.format})\n",
    "target = target[['pro_com_t','>=12']]\n",
    "target.columns = ['pro_com_t', 'target']\n",
    "\n",
    "out_abs = pd.merge(out, target, on='pro_com_t', how='inner')\n",
    "\n",
    "out_abs['%vaccinati'] = (out_abs['target'] * out_abs['%vaccinati'].astype(float) / 100).round().astype(int)\n",
    "out_abs['%immunizzati'] = (out_abs['target'] * out_abs['%immunizzati'].astype(float) / 100).round().astype(int)\n",
    "\n",
    "out_abs.columns = ['data', 'cod_prov', 'pro_com_t', 'provincia', 'comune', 'vaccinati', 'immunizzati', 'target']"
   ]
  },
  {
   "cell_type": "code",
   "execution_count": 16,
   "id": "01fe2d7d",
   "metadata": {},
   "outputs": [
    {
     "data": {
      "text/html": [
       "<div>\n",
       "<style scoped>\n",
       "    .dataframe tbody tr th:only-of-type {\n",
       "        vertical-align: middle;\n",
       "    }\n",
       "\n",
       "    .dataframe tbody tr th {\n",
       "        vertical-align: top;\n",
       "    }\n",
       "\n",
       "    .dataframe thead th {\n",
       "        text-align: right;\n",
       "    }\n",
       "</style>\n",
       "<table border=\"1\" class=\"dataframe\">\n",
       "  <thead>\n",
       "    <tr style=\"text-align: right;\">\n",
       "      <th></th>\n",
       "      <th>data</th>\n",
       "      <th>cod_prov</th>\n",
       "      <th>pro_com_t</th>\n",
       "      <th>provincia</th>\n",
       "      <th>comune</th>\n",
       "      <th>vaccinati</th>\n",
       "      <th>immunizzati</th>\n",
       "      <th>target</th>\n",
       "    </tr>\n",
       "  </thead>\n",
       "  <tbody>\n",
       "    <tr>\n",
       "      <th>0</th>\n",
       "      <td>2021-11-24</td>\n",
       "      <td>84</td>\n",
       "      <td>084001</td>\n",
       "      <td>Agrigento</td>\n",
       "      <td>Agrigento</td>\n",
       "      <td>44830</td>\n",
       "      <td>43769</td>\n",
       "      <td>50805</td>\n",
       "    </tr>\n",
       "    <tr>\n",
       "      <th>1</th>\n",
       "      <td>2021-11-24</td>\n",
       "      <td>84</td>\n",
       "      <td>084002</td>\n",
       "      <td>Agrigento</td>\n",
       "      <td>Alessandria della Rocca</td>\n",
       "      <td>2066</td>\n",
       "      <td>2032</td>\n",
       "      <td>2430</td>\n",
       "    </tr>\n",
       "    <tr>\n",
       "      <th>2</th>\n",
       "      <td>2021-11-24</td>\n",
       "      <td>84</td>\n",
       "      <td>084003</td>\n",
       "      <td>Agrigento</td>\n",
       "      <td>Aragona</td>\n",
       "      <td>7300</td>\n",
       "      <td>7148</td>\n",
       "      <td>8182</td>\n",
       "    </tr>\n",
       "    <tr>\n",
       "      <th>3</th>\n",
       "      <td>2021-11-24</td>\n",
       "      <td>84</td>\n",
       "      <td>084004</td>\n",
       "      <td>Agrigento</td>\n",
       "      <td>Bivona</td>\n",
       "      <td>2686</td>\n",
       "      <td>2624</td>\n",
       "      <td>3115</td>\n",
       "    </tr>\n",
       "    <tr>\n",
       "      <th>4</th>\n",
       "      <td>2021-11-24</td>\n",
       "      <td>84</td>\n",
       "      <td>084005</td>\n",
       "      <td>Agrigento</td>\n",
       "      <td>Burgio</td>\n",
       "      <td>2123</td>\n",
       "      <td>2092</td>\n",
       "      <td>2365</td>\n",
       "    </tr>\n",
       "    <tr>\n",
       "      <th>...</th>\n",
       "      <td>...</td>\n",
       "      <td>...</td>\n",
       "      <td>...</td>\n",
       "      <td>...</td>\n",
       "      <td>...</td>\n",
       "      <td>...</td>\n",
       "      <td>...</td>\n",
       "      <td>...</td>\n",
       "    </tr>\n",
       "    <tr>\n",
       "      <th>385</th>\n",
       "      <td>2021-11-24</td>\n",
       "      <td>81</td>\n",
       "      <td>081020</td>\n",
       "      <td>Trapani</td>\n",
       "      <td>San Vito Lo Capo</td>\n",
       "      <td>3345</td>\n",
       "      <td>3189</td>\n",
       "      <td>4381</td>\n",
       "    </tr>\n",
       "    <tr>\n",
       "      <th>386</th>\n",
       "      <td>2021-11-24</td>\n",
       "      <td>81</td>\n",
       "      <td>081019</td>\n",
       "      <td>Trapani</td>\n",
       "      <td>Santa Ninfa</td>\n",
       "      <td>3914</td>\n",
       "      <td>3802</td>\n",
       "      <td>4430</td>\n",
       "    </tr>\n",
       "    <tr>\n",
       "      <th>387</th>\n",
       "      <td>2021-11-24</td>\n",
       "      <td>81</td>\n",
       "      <td>081021</td>\n",
       "      <td>Trapani</td>\n",
       "      <td>Trapani</td>\n",
       "      <td>47687</td>\n",
       "      <td>45745</td>\n",
       "      <td>59041</td>\n",
       "    </tr>\n",
       "    <tr>\n",
       "      <th>388</th>\n",
       "      <td>2021-11-24</td>\n",
       "      <td>81</td>\n",
       "      <td>081022</td>\n",
       "      <td>Trapani</td>\n",
       "      <td>Valderice</td>\n",
       "      <td>8704</td>\n",
       "      <td>8345</td>\n",
       "      <td>10564</td>\n",
       "    </tr>\n",
       "    <tr>\n",
       "      <th>389</th>\n",
       "      <td>2021-11-24</td>\n",
       "      <td>81</td>\n",
       "      <td>081023</td>\n",
       "      <td>Trapani</td>\n",
       "      <td>Vita</td>\n",
       "      <td>1487</td>\n",
       "      <td>1450</td>\n",
       "      <td>1708</td>\n",
       "    </tr>\n",
       "  </tbody>\n",
       "</table>\n",
       "<p>390 rows × 8 columns</p>\n",
       "</div>"
      ],
      "text/plain": [
       "           data  cod_prov pro_com_t  provincia                   comune  \\\n",
       "0    2021-11-24        84    084001  Agrigento                Agrigento   \n",
       "1    2021-11-24        84    084002  Agrigento  Alessandria della Rocca   \n",
       "2    2021-11-24        84    084003  Agrigento                  Aragona   \n",
       "3    2021-11-24        84    084004  Agrigento                   Bivona   \n",
       "4    2021-11-24        84    084005  Agrigento                   Burgio   \n",
       "..          ...       ...       ...        ...                      ...   \n",
       "385  2021-11-24        81    081020    Trapani         San Vito Lo Capo   \n",
       "386  2021-11-24        81    081019    Trapani              Santa Ninfa   \n",
       "387  2021-11-24        81    081021    Trapani                  Trapani   \n",
       "388  2021-11-24        81    081022    Trapani                Valderice   \n",
       "389  2021-11-24        81    081023    Trapani                     Vita   \n",
       "\n",
       "     vaccinati  immunizzati  target  \n",
       "0        44830        43769   50805  \n",
       "1         2066         2032    2430  \n",
       "2         7300         7148    8182  \n",
       "3         2686         2624    3115  \n",
       "4         2123         2092    2365  \n",
       "..         ...          ...     ...  \n",
       "385       3345         3189    4381  \n",
       "386       3914         3802    4430  \n",
       "387      47687        45745   59041  \n",
       "388       8704         8345   10564  \n",
       "389       1487         1450    1708  \n",
       "\n",
       "[390 rows x 8 columns]"
      ]
     },
     "execution_count": 16,
     "metadata": {},
     "output_type": "execute_result"
    }
   ],
   "source": [
    "out_abs"
   ]
  },
  {
   "cell_type": "markdown",
   "id": "c54a01a8",
   "metadata": {},
   "source": [
    "### Esporta in CSV"
   ]
  },
  {
   "cell_type": "code",
   "execution_count": 17,
   "id": "33d58235",
   "metadata": {},
   "outputs": [
    {
     "name": "stdout",
     "output_type": "stream",
     "text": [
      "Converto in CSV.\n",
      "Fatto.\n"
     ]
    }
   ],
   "source": [
    "print(\"Converto in CSV.\")\n",
    "out.to_csv('./dati-csv/vaccini-'+date.strftime('%Y%m%d')+'.csv', index=None, header=True)\n",
    "out.to_csv('./dati-csv/vaccini-latest.csv', index=None, header=True)\n",
    "out_abs.to_csv('./dati-csv/vaccini-abs-'+date.strftime('%Y%m%d')+'.csv', index=None, header=True)\n",
    "out_abs.to_csv('./dati-csv/vaccini-abs-latest.csv', index=None, header=True)\n",
    "print(\"Fatto.\")"
   ]
  },
  {
   "cell_type": "code",
   "execution_count": null,
   "id": "96b85d4f",
   "metadata": {},
   "outputs": [],
   "source": []
  }
 ],
 "metadata": {
  "kernelspec": {
   "display_name": "Python 3 (ipykernel)",
   "language": "python",
   "name": "python3"
  },
  "language_info": {
   "codemirror_mode": {
    "name": "ipython",
    "version": 3
   },
   "file_extension": ".py",
   "mimetype": "text/x-python",
   "name": "python",
   "nbconvert_exporter": "python",
   "pygments_lexer": "ipython3",
   "version": "3.8.10"
  }
 },
 "nbformat": 4,
 "nbformat_minor": 5
}
